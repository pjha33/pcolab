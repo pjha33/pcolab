{
  "nbformat": 4,
  "nbformat_minor": 0,
  "metadata": {
    "colab": {
      "provenance": [],
      "authorship_tag": "ABX9TyN/2Ia5AdmxTWp9lSilmmKQ",
      "include_colab_link": true
    },
    "kernelspec": {
      "name": "python3",
      "display_name": "Python 3"
    },
    "language_info": {
      "name": "python"
    }
  },
  "cells": [
    {
      "cell_type": "markdown",
      "metadata": {
        "id": "view-in-github",
        "colab_type": "text"
      },
      "source": [
        "<a href=\"https://colab.research.google.com/github/pjha33/pcolab/blob/main/SWE_Lab.ipynb\" target=\"_parent\"><img src=\"https://colab.research.google.com/assets/colab-badge.svg\" alt=\"Open In Colab\"/></a>"
      ]
    },
    {
      "cell_type": "markdown",
      "source": [
        "#Week 0 [29/11/2023]"
      ],
      "metadata": {
        "id": "rnzTXAvXPftu"
      }
    },
    {
      "cell_type": "markdown",
      "source": [
        "#Week 1 [06/12/2023]"
      ],
      "metadata": {
        "id": "fVU4uHxZPaBN"
      }
    },
    {
      "cell_type": "code",
      "execution_count": null,
      "metadata": {
        "colab": {
          "base_uri": "https://localhost:8080/"
        },
        "id": "4N_Zn3H-ELOg",
        "outputId": "d740820f-347b-47cf-b3d9-af4d186b8943"
      },
      "outputs": [
        {
          "output_type": "stream",
          "name": "stdout",
          "text": [
            "+-----------------------------------------+\n",
            "| Weather Forecast Software               |\n",
            "+-----------------------------------------+\n",
            " Enter the temperature (°C): 28\n",
            " Enter the humidity (%): 65\n",
            " Enter the wind speed (km/h): 20\n",
            "+-----------------------------------------+\n",
            "| Result: The weather is SUNNY.           |\n",
            "+-----------------------------------------+\n"
          ]
        }
      ],
      "source": [
        "print(\"+-----------------------------------------+\")\n",
        "print(\"| Weather Forecast Software               |\")\n",
        "print(\"+-----------------------------------------+\")\n",
        "t = eval(input(\" Enter the temperature (°C): \"))\n",
        "h = eval(input(\" Enter the humidity (%): \"))\n",
        "ws = eval(input(\" Enter the wind speed (km/h): \"))\n",
        "print(\"+-----------------------------------------+\")\n",
        "w = (0.5 * (t**2)) - (0.2 * h) + (0.1 * ws) - 15\n",
        "if w > 300:\n",
        "    print(\"| Result: The weather is SUNNY.           |\")\n",
        "elif w > 200 and w <= 300:\n",
        "    print(\"| Result: The weather is CLOUDY.          |\")\n",
        "elif w > 100 and w <= 200:\n",
        "    print(\"| Result: The weather is RAINY.           |\")\n",
        "elif w <= 100:\n",
        "    print(\"| Result: The weather is STORMY.          |\")\n",
        "print(\"+-----------------------------------------+\")"
      ]
    },
    {
      "cell_type": "markdown",
      "source": [
        "#Week 2 [13/12/2023]"
      ],
      "metadata": {
        "id": "8rZjRxqvPAyW"
      }
    },
    {
      "cell_type": "markdown",
      "source": [
        "##1. Static Variables"
      ],
      "metadata": {
        "id": "I6oNX6J7RgVH"
      }
    },
    {
      "cell_type": "code",
      "execution_count": null,
      "metadata": {
        "id": "IqIWBjbDPAyZ"
      },
      "outputs": [],
      "source": [
        "print(\"+-----------------------------------------+\")\n",
        "print(\"| Weather Forecast Software               |\")\n",
        "print(\"+-----------------------------------------+\")\n",
        "t = 28\n",
        "h = 65\n",
        "ws = 20\n",
        "print(\"+-----------------------------------------+\")\n",
        "w = (0.5 * (t**2)) - (0.2 * h) + (0.1 * ws) - 15\n",
        "if w > 300:\n",
        "    print(\"| Result: The weather is SUNNY.           |\")\n",
        "elif w > 200 and w <= 300:\n",
        "    print(\"| Result: The weather is CLOUDY.          |\")\n",
        "elif w > 100 and w <= 200:\n",
        "    print(\"| Result: The weather is RAINY.           |\")\n",
        "elif w <= 100:\n",
        "    print(\"| Result: The weather is STORMY.          |\")\n",
        "print(\"+-----------------------------------------+\")"
      ]
    },
    {
      "cell_type": "markdown",
      "source": [
        "##2. Dynamic Variables"
      ],
      "metadata": {
        "id": "E4aMxc2YRtpu"
      }
    },
    {
      "cell_type": "code",
      "source": [
        "print(\"+-----------------------------------------+\")\n",
        "print(\"| Weather Forecast Software               |\")\n",
        "print(\"+-----------------------------------------+\")\n",
        "t = eval(input(\" Enter the temperature (°C): \"))\n",
        "h = eval(input(\" Enter the humidity (%): \"))\n",
        "ws = eval(input(\" Enter the wind speed (km/h): \"))\n",
        "print(\"+-----------------------------------------+\")\n",
        "w = (0.5 * (t**2)) - (0.2 * h) + (0.1 * ws) - 15\n",
        "if w > 300:\n",
        "    print(\"| Result: The weather is SUNNY.           |\")\n",
        "elif w > 200 and w <= 300:\n",
        "    print(\"| Result: The weather is CLOUDY.          |\")\n",
        "elif w > 100 and w <= 200:\n",
        "    print(\"| Result: The weather is RAINY.           |\")\n",
        "elif w <= 100:\n",
        "    print(\"| Result: The weather is STORMY.          |\")\n",
        "print(\"+-----------------------------------------+\")"
      ],
      "metadata": {
        "id": "fHkGQv2xRfAg"
      },
      "execution_count": null,
      "outputs": []
    },
    {
      "cell_type": "markdown",
      "source": [
        "##3.1. Test case: for loop - sunny, rainy, cloudy, stormy    \n"
      ],
      "metadata": {
        "id": "SUI-9gTnRxHX"
      }
    },
    {
      "cell_type": "markdown",
      "source": [
        "##3.2. Test case: user gives multiple inputs"
      ],
      "metadata": {
        "id": "C2VaJEuTSVxP"
      }
    },
    {
      "cell_type": "markdown",
      "source": [
        "##4. Reading from a file"
      ],
      "metadata": {
        "id": "6EUVhXTESh9u"
      }
    },
    {
      "cell_type": "code",
      "source": [
        "print(\"+-----------------------------------------+\")\n",
        "print(\"| Weather Forecast Software               |\")\n",
        "print(\"+-----------------------------------------+\")\n",
        "with open(\"/weather_input.txt\", \"r\") as file:\n",
        "    lines = file.readlines()\n",
        "t = eval(lines[0].strip())\n",
        "h = eval(lines[1].strip())\n",
        "ws = eval(lines[2].strip())\n",
        "print(\"+-----------------------------------------+\")\n",
        "w = (0.5 * (t**2)) - (0.2 * h) + (0.1 * ws) - 15\n",
        "if w > 300:\n",
        "    print(\"| Result: The weather is SUNNY.           |\")\n",
        "elif 200 < w <= 300:\n",
        "    print(\"| Result: The weather is CLOUDY.          |\")\n",
        "elif 100 < w <= 200:\n",
        "    print(\"| Result: The weather is RAINY.           |\")\n",
        "elif w <= 100:\n",
        "    print(\"| Result: The weather is STORMY.          |\")\n",
        "print(\"+-----------------------------------------+\")"
      ],
      "metadata": {
        "colab": {
          "base_uri": "https://localhost:8080/"
        },
        "id": "Mr5esFEpS2HI",
        "outputId": "037b8337-0fdc-4979-e744-e950c811c16f"
      },
      "execution_count": null,
      "outputs": [
        {
          "output_type": "stream",
          "name": "stdout",
          "text": [
            "+-----------------------------------------+\n",
            "| Weather Forecast Software               |\n",
            "+-----------------------------------------+\n",
            "+-----------------------------------------+\n",
            "| Result: The weather is SUNNY.           |\n",
            "+-----------------------------------------+\n"
          ]
        }
      ]
    }
  ]
}